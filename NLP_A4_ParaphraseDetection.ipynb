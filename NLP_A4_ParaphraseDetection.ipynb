{
 "cells": [
  {
   "cell_type": "markdown",
   "metadata": {},
   "source": [
    "##   Natural Langunage Processing - Assignment -4"
   ]
  },
  {
   "cell_type": "markdown",
   "metadata": {},
   "source": [
    "###  Paraphrase Detection (Microsoft Research Paraphrase(MSRP) corpus)"
   ]
  },
  {
   "cell_type": "markdown",
   "metadata": {},
   "source": [
    "###  Assignment Description : "
   ]
  },
  {
   "cell_type": "markdown",
   "metadata": {},
   "source": [
    "In this assignment, you would develop a deep learning models for paraphrase detection. Two documents are considered paraphrases when they convey the same meaning even though they may be written differently. Supervised paraphrase detection takes as input the two documents and outputs a label of 1 or 0 depending on whether they are paraphrases or not. \n",
    "Download the Microsoft Research Paraphrase (MSRP) corpus and study its description. Represent each document in the pair as a sequence of word embeddings. Limit the document length to the first 20 words. If a document is longer pad with zeros, and if a document is shorter truncate it. Use GloVe embeddings of size 300. \n",
    "Train the following deep learning models on the training set and give performance results (accuracy, precision, recall, and F1-score) on the test set. Use Keras as front end with Tensor Flow on the back.\n",
    "1.\tFeedforward network with two hidden layers (300 and 150 units). Use ReLU activations for the hidden layers. \n",
    "2.\tLSTM network with 300 units followed by a hidden layer containing 150 ReLU units. \n",
    "3.\tSame as 2, but use a bi directional LSTM network \n",
    "Present your results with default settings and with some variations. Discus the impact of the variations you consider.\n",
    "Submit your report and code. \n"
   ]
  },
  {
   "cell_type": "code",
   "execution_count": null,
   "metadata": {},
   "outputs": [],
   "source": [
    "\n"
   ]
  },
  {
   "cell_type": "code",
   "execution_count": null,
   "metadata": {},
   "outputs": [],
   "source": []
  },
  {
   "cell_type": "code",
   "execution_count": null,
   "metadata": {},
   "outputs": [],
   "source": []
  },
  {
   "cell_type": "code",
   "execution_count": null,
   "metadata": {},
   "outputs": [],
   "source": []
  },
  {
   "cell_type": "code",
   "execution_count": null,
   "metadata": {},
   "outputs": [],
   "source": []
  },
  {
   "cell_type": "code",
   "execution_count": null,
   "metadata": {},
   "outputs": [],
   "source": []
  },
  {
   "cell_type": "code",
   "execution_count": 72,
   "metadata": {},
   "outputs": [],
   "source": [
    "# Basic packages\n",
    "import pandas as pd \n",
    "import numpy as np\n",
    "import re\n",
    "import collections\n",
    "import matplotlib.pyplot as plt\n",
    "from pathlib import Path\n",
    "\n",
    "\n",
    "# Packages for data preparation\n",
    "from sklearn.model_selection import train_test_split\n",
    "from nltk.corpus import stopwords\n",
    "from keras.preprocessing.text import Tokenizer\n",
    "from keras.preprocessing.sequence import pad_sequences\n",
    "\n",
    "from keras.utils.np_utils import to_categorical\n",
    "from sklearn.preprocessing import LabelEncoder\n",
    "\n",
    "# Packages for modeling\n",
    "from keras import models\n",
    "from keras import layers\n",
    "from keras import regularizers"
   ]
  },
  {
   "cell_type": "code",
   "execution_count": 88,
   "metadata": {},
   "outputs": [],
   "source": [
    "\n",
    "NB_WORDS = 10000  # Parameter indicating the number of words to put in dictionary\n",
    "MAX_LEN = 20    #  Maximum number of words in a sequence\n",
    "GLOVE_DIM = 300  # Number of dimensions of the GloVe word embeddings"
   ]
  },
  {
   "cell_type": "code",
   "execution_count": null,
   "metadata": {},
   "outputs": [],
   "source": [
    "\n"
   ]
  },
  {
   "cell_type": "code",
   "execution_count": null,
   "metadata": {},
   "outputs": [],
   "source": []
  },
  {
   "cell_type": "code",
   "execution_count": null,
   "metadata": {},
   "outputs": [],
   "source": []
  },
  {
   "cell_type": "code",
   "execution_count": 87,
   "metadata": {},
   "outputs": [],
   "source": [
    "# Remove stopwards from given sequence\n",
    "def remove_stopwords(input_text):\n",
    "    '''\n",
    "    Function to remove English stopwords from a Pandas Series.\n",
    "    \n",
    "    Parameters:\n",
    "        input_text : text to clean\n",
    "    Output:\n",
    "        cleaned Pandas Series \n",
    "    '''\n",
    "    stopwords_list = stopwords.words('english')\n",
    "    # Some words which might indicate a certain sentiment are kept via a whitelist\n",
    "    whitelist = [\"n't\", \"not\", \"no\"]\n",
    "    words = input_text.split() \n",
    "    clean_words = [word for word in words if (word not in stopwords_list or word in whitelist) and len(word) > 1] \n",
    "    return \" \".join(clean_words) "
   ]
  },
  {
   "cell_type": "code",
   "execution_count": null,
   "metadata": {},
   "outputs": [],
   "source": []
  },
  {
   "cell_type": "code",
   "execution_count": 6,
   "metadata": {},
   "outputs": [
    {
     "name": "stderr",
     "output_type": "stream",
     "text": [
      "c:\\python\\lib\\site-packages\\ipykernel_launcher.py:1: ParserWarning: Falling back to the 'python' engine because the 'c' engine does not support regex separators (separators > 1 char and different from '\\s+' are interpreted as regex); you can avoid this warning by specifying engine='python'.\n",
      "  \"\"\"Entry point for launching an IPython kernel.\n"
     ]
    }
   ],
   "source": [
    "dfTrain = pd.read_csv('F:/LUMS/Spring 2019/Natural Language Processing/Assignment/Assignment4/MSRParaphraseCorpus/msr_paraphrase_train.txt', delimiter=r\"\\t\")\n",
    "\n",
    "dfTrain = dfTrain[['ï»¿label','string1', 'string2']]\n",
    "dfTrain.string1 = dfTrain.string1.apply(remove_stopwords)#.apply(remove_mentions)\n",
    "dfTrain.string2 = dfTrain.string2.apply(remove_stopwords)"
   ]
  },
  {
   "cell_type": "code",
   "execution_count": 7,
   "metadata": {},
   "outputs": [
    {
     "name": "stderr",
     "output_type": "stream",
     "text": [
      "c:\\python\\lib\\site-packages\\ipykernel_launcher.py:1: ParserWarning: Falling back to the 'python' engine because the 'c' engine does not support regex separators (separators > 1 char and different from '\\s+' are interpreted as regex); you can avoid this warning by specifying engine='python'.\n",
      "  \"\"\"Entry point for launching an IPython kernel.\n"
     ]
    }
   ],
   "source": [
    "dfTest = pd.read_csv('F:/LUMS/Spring 2019/Natural Language Processing/Assignment/Assignment4/MSRParaphraseCorpus/msr_paraphrase_test.txt', delimiter=r\"\\t\")\n",
    "\n",
    "dfTest = dfTest[['ï»¿label','string1', 'string2']]\n",
    "dfTest.string1 = dfTest.string1.apply(remove_stopwords)#.apply(remove_mentions)\n",
    "dfTest.string2 = dfTest.string2.apply(remove_stopwords)"
   ]
  },
  {
   "cell_type": "code",
   "execution_count": 89,
   "metadata": {},
   "outputs": [],
   "source": [
    "dfTrain['string1'] = dfTrain.string1\n",
    "dfTrain['string2'] = dfTrain.string1\n",
    "\n",
    "dfTest['string1'] = dfTest.string1\n",
    "dfTest['string2'] = dfTest.string1\n",
    "\n",
    "X_train = dfTrain [['string1','string2']]\n",
    "y_train = dfTrain[['ï»¿label']]\n",
    "X_test = dfTest [['string1','string2']]\n",
    "y_test = dfTest[['ï»¿label']]"
   ]
  },
  {
   "cell_type": "code",
   "execution_count": 9,
   "metadata": {},
   "outputs": [],
   "source": []
  },
  {
   "cell_type": "code",
   "execution_count": 10,
   "metadata": {},
   "outputs": [],
   "source": []
  },
  {
   "cell_type": "code",
   "execution_count": 11,
   "metadata": {},
   "outputs": [],
   "source": []
  },
  {
   "cell_type": "code",
   "execution_count": 90,
   "metadata": {},
   "outputs": [
    {
     "name": "stdout",
     "output_type": "stream",
     "text": [
      "# Train data samples: 4076\n",
      "# Test data samples: 1725\n"
     ]
    }
   ],
   "source": [
    "\n",
    "print('# Train data samples:', X_train.shape[0])\n",
    "print('# Test data samples:', X_test.shape[0])\n",
    "assert X_train.shape[0] == y_train.shape[0]\n",
    "assert X_test.shape[0] == y_test.shape[0]"
   ]
  },
  {
   "cell_type": "code",
   "execution_count": 161,
   "metadata": {},
   "outputs": [],
   "source": [
    "## convert words into numbers (Train Data)"
   ]
  },
  {
   "cell_type": "code",
   "execution_count": 13,
   "metadata": {},
   "outputs": [],
   "source": [
    "tk = Tokenizer(num_words=NB_WORDS,\n",
    "               filters='!\"#$%&()*+,-./:;<=>?@[\\\\]^_`{|}~\\t\\n',\n",
    "               lower=True,\n",
    "               split=\" \")\n",
    "\n",
    "tk.fit_on_texts(X_train['string1']+X_train['string2'])\n",
    "\n",
    "X_train_seq1 = tk.texts_to_sequences(X_train['string1'])\n",
    "\n",
    "X_train_seq2 = tk.texts_to_sequences(X_train['string1'])\n",
    "\n"
   ]
  },
  {
   "cell_type": "code",
   "execution_count": 14,
   "metadata": {},
   "outputs": [
    {
     "name": "stdout",
     "output_type": "stream",
     "text": [
      "Found 11858 unique tokens.\n"
     ]
    }
   ],
   "source": [
    "word_index = tk.word_index\n",
    "print('Found %s unique tokens.' % len(word_index))\n",
    "\n",
    "X_train_seq_trunc1 = pad_sequences(X_train_seq1, maxlen=MAX_LEN)\n",
    "X_train_seq_trunc2 = pad_sequences(X_train_seq2, maxlen=MAX_LEN)\n"
   ]
  },
  {
   "cell_type": "code",
   "execution_count": 91,
   "metadata": {},
   "outputs": [
    {
     "name": "stdout",
     "output_type": "stream",
     "text": [
      "(4076, 40)\n",
      "(4076, 1)\n"
     ]
    }
   ],
   "source": [
    "\n",
    "data =np.column_stack([X_train_seq_trunc1, X_train_seq_trunc2])\n",
    "\n",
    "print(data.shape)\n",
    "print(y_train.shape)"
   ]
  },
  {
   "cell_type": "code",
   "execution_count": 16,
   "metadata": {},
   "outputs": [],
   "source": [
    "## convert words into numbers (Test Data)"
   ]
  },
  {
   "cell_type": "code",
   "execution_count": 92,
   "metadata": {},
   "outputs": [],
   "source": [
    "X_test_seq1 = tk.texts_to_sequences(X_test['string1'])\n",
    "\n",
    "\n",
    "X_test_seq2 = tk.texts_to_sequences(X_test['string2'])\n",
    "X_test_seq_trunc1 = pad_sequences(X_test_seq1, maxlen=MAX_LEN)\n",
    "X_test_seq_trunc2 = pad_sequences(X_test_seq2, maxlen=MAX_LEN)\n",
    "test_data =np.column_stack([X_test_seq_trunc1, X_test_seq_trunc2])\n"
   ]
  },
  {
   "cell_type": "code",
   "execution_count": 18,
   "metadata": {},
   "outputs": [],
   "source": [
    "# seq_lengths = X_train['string1'].apply(lambda x: len(x.split(' ')))\n",
    "# seq_lengths.describe()"
   ]
  },
  {
   "cell_type": "code",
   "execution_count": 19,
   "metadata": {},
   "outputs": [],
   "source": [
    "# seq_lengths = X_train['string2'].apply(lambda x: len(x.split(' ')))\n",
    "# seq_lengths.describe()"
   ]
  },
  {
   "cell_type": "code",
   "execution_count": null,
   "metadata": {},
   "outputs": [],
   "source": [
    "\n"
   ]
  },
  {
   "cell_type": "code",
   "execution_count": 20,
   "metadata": {},
   "outputs": [],
   "source": []
  },
  {
   "cell_type": "code",
   "execution_count": 95,
   "metadata": {},
   "outputs": [],
   "source": [
    "glove_file = 'F:/LUMS/Spring 2019/Natural Language Processing/Assignment/Assignment4/glove.6B/glove.6B.' + str(GLOVE_DIM) + 'd.txt'\n"
   ]
  },
  {
   "cell_type": "code",
   "execution_count": 98,
   "metadata": {},
   "outputs": [
    {
     "name": "stdout",
     "output_type": "stream",
     "text": [
      "Glove data loaded\n"
     ]
    }
   ],
   "source": [
    "embeddings_index = {}\n",
    "f = open(glove_file, encoding=\"utf8\")\n",
    "for line in f:\n",
    "    values = line.split(' ')\n",
    "    word = values[0] \n",
    "    coefs = np.asarray(values[1:], dtype='float32') \n",
    "    embeddings_index[word] = coefs\n",
    "f.close()\n",
    "\n",
    "print('Glove data loaded')"
   ]
  },
  {
   "cell_type": "code",
   "execution_count": null,
   "metadata": {},
   "outputs": [],
   "source": []
  },
  {
   "cell_type": "code",
   "execution_count": null,
   "metadata": {},
   "outputs": [],
   "source": []
  },
  {
   "cell_type": "code",
   "execution_count": 102,
   "metadata": {},
   "outputs": [],
   "source": [
    "\n",
    "EMBEDDING_DIM = embeddings_index.get('a').shape[0]\n",
    "num_words = min(NB_WORDS, len(word_index)) + 1\n",
    "embedding_matrix = np.zeros((num_words, EMBEDDING_DIM))\n",
    "for word, i in tk.word_index.items():\n",
    "    if i > 40 : #2*NB_WORDS\n",
    "        continue\n",
    "    embedding_vector = embeddings_index.get(word) ## This references the loaded embeddings dictionary\n",
    "    if embedding_vector is not None:\n",
    "        # words not found in embedding index will be all-zeros.\n",
    "        embedding_matrix[i] = embedding_vector\n",
    "\n"
   ]
  },
  {
   "cell_type": "code",
   "execution_count": 78,
   "metadata": {},
   "outputs": [],
   "source": [
    "\n"
   ]
  },
  {
   "cell_type": "markdown",
   "metadata": {},
   "source": [
    "#### Part-1 Feedforward network with two hidden layers (300 and 150 units). Use ReLU activations for the hidden layers. "
   ]
  },
  {
   "cell_type": "code",
   "execution_count": 149,
   "metadata": {},
   "outputs": [
    {
     "name": "stdout",
     "output_type": "stream",
     "text": [
      "_________________________________________________________________\n",
      "Layer (type)                 Output Shape              Param #   \n",
      "=================================================================\n",
      "embedding_17 (Embedding)     (None, 40, 300)           3000300   \n",
      "_________________________________________________________________\n",
      "flatten_10 (Flatten)         (None, 12000)             0         \n",
      "_________________________________________________________________\n",
      "dense_39 (Dense)             (None, 300)               3600300   \n",
      "_________________________________________________________________\n",
      "dense_40 (Dense)             (None, 150)               45150     \n",
      "_________________________________________________________________\n",
      "dense_41 (Dense)             (None, 1)                 151       \n",
      "=================================================================\n",
      "Total params: 6,645,901\n",
      "Trainable params: 3,645,601\n",
      "Non-trainable params: 3,000,300\n",
      "_________________________________________________________________\n"
     ]
    }
   ],
   "source": [
    "from keras.models import Sequential\n",
    "from keras.layers import Dense, Flatten, LSTM, MaxPooling1D, Dropout, Activation, Embedding\n",
    "\n",
    "FFmodel = models.Sequential()\n",
    "FFmodel.add(layers.Embedding(num_words, GLOVE_DIM, input_length=2*MAX_LEN,weights= [embedding_matrix], trainable=False))\n",
    "FFmodel.add(layers.Flatten())\n",
    "FFmodel.add(Dense(300, activation='relu'))\n",
    "FFmodel.add(Dense(150, activation='relu'))\n",
    "FFmodel.add(Dense(1, activation='sigmoid'))\n",
    "\n",
    "FFmodel.summary()\n",
    "#FFmodel.fit(data,y_train, validation_split=0.1, epochs = 1)"
   ]
  },
  {
   "cell_type": "code",
   "execution_count": null,
   "metadata": {},
   "outputs": [],
   "source": []
  },
  {
   "cell_type": "code",
   "execution_count": null,
   "metadata": {},
   "outputs": [],
   "source": []
  },
  {
   "cell_type": "code",
   "execution_count": 113,
   "metadata": {},
   "outputs": [
    {
     "name": "stdout",
     "output_type": "stream",
     "text": [
      "Train on 3464 samples, validate on 612 samples\n",
      "Epoch 1/10\n",
      "3464/3464 [==============================] - 1596s 461ms/step - loss: 0.6440 - acc: 0.6729 - val_loss: 0.6258 - val_acc: 0.6895\n",
      "Epoch 2/10\n",
      "3464/3464 [==============================] - 1558s 450ms/step - loss: 0.6024 - acc: 0.6729 - val_loss: 0.6261 - val_acc: 0.6895\n",
      "Epoch 3/10\n",
      "3464/3464 [==============================] - 1582s 457ms/step - loss: 0.5839 - acc: 0.6729 - val_loss: 0.6303 - val_acc: 0.6895\n",
      "Epoch 4/10\n",
      "3464/3464 [==============================] - 1575s 455ms/step - loss: 0.5703 - acc: 0.6729 - val_loss: 0.6352 - val_acc: 0.6895\n",
      "Epoch 5/10\n",
      "3464/3464 [==============================] - 1519s 439ms/step - loss: 0.5608 - acc: 0.6729 - val_loss: 0.6527 - val_acc: 0.6895\n",
      "Epoch 6/10\n",
      "3464/3464 [==============================] - 1587s 458ms/step - loss: 0.5502 - acc: 0.6729 - val_loss: 0.6711 - val_acc: 0.6895\n",
      "Epoch 7/10\n",
      "3464/3464 [==============================] - 1588s 458ms/step - loss: 0.5425 - acc: 0.6729 - val_loss: 0.6624 - val_acc: 0.6895\n",
      "Epoch 8/10\n",
      "3464/3464 [==============================] - 1593s 460ms/step - loss: 0.5345 - acc: 0.6856 - val_loss: 0.6886 - val_acc: 0.6765\n",
      "Epoch 9/10\n",
      "3464/3464 [==============================] - 1586s 458ms/step - loss: 0.5262 - acc: 0.6980 - val_loss: 0.6984 - val_acc: 0.6438\n",
      "Epoch 10/10\n",
      "3464/3464 [==============================] - 1586s 458ms/step - loss: 0.5172 - acc: 0.7333 - val_loss: 0.7122 - val_acc: 0.6373\n",
      "dict_keys(['val_loss', 'val_acc', 'loss', 'acc'])\n"
     ]
    },
    {
     "data": {
      "image/png": "[encoded data removed]",
      "text/plain": [
       "<Figure size 432x288 with 1 Axes>"
      ]
     },
     "metadata": {},
     "output_type": "display_data"
    },
    {
     "data": {
      "image/png": "[encoded data removed]",
      "text/plain": [
       "<Figure size 432x288 with 1 Axes>"
      ]
     },
     "metadata": {},
     "output_type": "display_data"
    }
   ],
   "source": [
    "import matplotlib.pyplot as plt\n",
    "plt.style.use('ggplot')\n",
    "\n",
    "\n",
    "#FFmodel.compile(loss='binary_crossentropy', optimizer='adam', metrics=['accuracy'])\n",
    "\n",
    "FFmodel.compile(loss='binary_crossentropy', optimizer='adam', metrics=['accuracy'])\n",
    "history = FFmodel.fit(data, y_train, validation_split=0.15, epochs = 10)\n",
    "\n",
    "print(history.history.keys())\n",
    "\n",
    "plt.plot(history.history['acc'])\n",
    "plt.plot(history.history['val_acc'])\n",
    "plt.title('FeedForward model accuracy')\n",
    "plt.ylabel('accuracy')\n",
    "plt.xlabel('epoch')\n",
    "plt.legend(['train', 'validation'], loc='upper left')\n",
    "#plt.savefig('FeedForwardmodelAccuracy.png')\n",
    "plt.show()\n",
    "\n",
    "# summarize history for loss\n",
    "plt.plot(history.history['loss'])\n",
    "plt.plot(history.history['val_loss'])\n",
    "plt.title('FeedForward model loss')\n",
    "plt.ylabel('loss')\n",
    "plt.xlabel('epoch')\n",
    "plt.legend(['train', 'validation'], loc='upper left')\n",
    "#plt.savefig('FeedForwardmodelLoss.png')\n",
    "plt.show()"
   ]
  },
  {
   "cell_type": "code",
   "execution_count": null,
   "metadata": {},
   "outputs": [],
   "source": []
  },
  {
   "cell_type": "code",
   "execution_count": null,
   "metadata": {},
   "outputs": [],
   "source": []
  },
  {
   "cell_type": "code",
   "execution_count": null,
   "metadata": {},
   "outputs": [],
   "source": [
    "\n"
   ]
  },
  {
   "cell_type": "code",
   "execution_count": 118,
   "metadata": {},
   "outputs": [
    {
     "name": "stdout",
     "output_type": "stream",
     "text": [
      "1725/1725 [==============================] - 2s 1ms/step\n",
      "/n\n",
      "Test accuracy of Feed forward model: 61.22%\n"
     ]
    }
   ],
   "source": [
    "target = to_categorical(np.asarray(y_test))\n",
    "pred = FFmodel.predict(test_data, batch_size=100, verbose=3)\n",
    "results = FFmodel.evaluate(test_data, y_test)\n",
    "\n",
    "print('/n')\n",
    "print('Test accuracy of Feed forward model: {0:.2f}%'.format(results[1]*100))"
   ]
  },
  {
   "cell_type": "code",
   "execution_count": 119,
   "metadata": {},
   "outputs": [],
   "source": [
    "from sklearn.metrics import precision_recall_curve\n",
    "from sklearn.metrics import f1_score\n",
    "from sklearn.metrics import auc\n",
    "from sklearn.metrics import average_precision_score,recall_score\n",
    "from sklearn.metrics import precision_recall_fscore_support"
   ]
  },
  {
   "cell_type": "code",
   "execution_count": 120,
   "metadata": {},
   "outputs": [
    {
     "name": "stdout",
     "output_type": "stream",
     "text": [
      "Test accuracy of Feed forward model: 61.22%\n",
      "Precision Score for Feed Forward Network : 71.64%\n",
      "Recall Score for Feed Forward Network :52.90%\n",
      "F1 Score for Feed Forward Network :72.82%\n"
     ]
    }
   ],
   "source": [
    "average_precision = average_precision_score(y_test, pred)\n",
    "recall =recall_score(y_test, pred.round(), average='macro')\n",
    "f1 = f1_score(pred.round(), y_test)\n",
    "\n",
    "print('Test accuracy of Feed forward model: {0:.2f}%'.format(results[1]*100))\n",
    "print('Precision Score for Feed Forward Network : {0:.2f}%' .format(average_precision*100))\n",
    "print('Recall Score for Feed Forward Network :{0:.2f}%' .format(recall*100))\n",
    "print('F1 Score for Feed Forward Network :{0:.2f}%' .format(f1*100))"
   ]
  },
  {
   "cell_type": "code",
   "execution_count": null,
   "metadata": {},
   "outputs": [],
   "source": []
  },
  {
   "cell_type": "code",
   "execution_count": null,
   "metadata": {},
   "outputs": [],
   "source": []
  },
  {
   "cell_type": "markdown",
   "metadata": {},
   "source": [
    "### Part-2 --- LSTM network with 300 units followed by a hidden layer containing 150 ReLU units. "
   ]
  },
  {
   "cell_type": "code",
   "execution_count": 121,
   "metadata": {},
   "outputs": [],
   "source": [
    "from keras.models import Sequential"
   ]
  },
  {
   "cell_type": "code",
   "execution_count": 150,
   "metadata": {},
   "outputs": [
    {
     "name": "stdout",
     "output_type": "stream",
     "text": [
      "_________________________________________________________________\n",
      "Layer (type)                 Output Shape              Param #   \n",
      "=================================================================\n",
      "embedding_18 (Embedding)     (None, 40, 300)           3000300   \n",
      "_________________________________________________________________\n",
      "lstm_5 (LSTM)                (None, 300)               721200    \n",
      "_________________________________________________________________\n",
      "dense_42 (Dense)             (None, 150)               45150     \n",
      "_________________________________________________________________\n",
      "dense_43 (Dense)             (None, 1)                 151       \n",
      "=================================================================\n",
      "Total params: 3,766,801\n",
      "Trainable params: 766,501\n",
      "Non-trainable params: 3,000,300\n",
      "_________________________________________________________________\n"
     ]
    }
   ],
   "source": [
    "from keras.layers import Dense, Flatten, LSTM, MaxPooling1D, Dropout, Activation,Embedding\n",
    "\n",
    "LSTMmodel = Sequential()\n",
    "LSTMmodel.add(Embedding(num_words,  GLOVE_DIM, input_length=2*MAX_LEN, weights= [embedding_matrix], trainable=False))\n",
    "\n",
    "#LSTMmodel.add(Dropout(0.2))\n",
    "#LSTMmodel.add(MaxPooling1D(pool_size=4))\n",
    "LSTMmodel.add(LSTM(300, input_shape=(2*MAX_LEN, 300)))\n",
    "LSTMmodel.add(Dense(150, activation='relu'))\n",
    "LSTMmodel.add(Dense(1, activation='sigmoid'))\n",
    "LSTMmodel.summary()\n",
    "LSTMmodel.compile(loss='binary_crossentropy', optimizer='adam', metrics=['accuracy'])"
   ]
  },
  {
   "cell_type": "code",
   "execution_count": null,
   "metadata": {},
   "outputs": [],
   "source": []
  },
  {
   "cell_type": "code",
   "execution_count": 69,
   "metadata": {},
   "outputs": [],
   "source": [
    "\n",
    "\n",
    "#LSTMmodel.fit(data, y_train, validation_split=0.1, epochs = 1)"
   ]
  },
  {
   "cell_type": "code",
   "execution_count": 123,
   "metadata": {},
   "outputs": [
    {
     "name": "stdout",
     "output_type": "stream",
     "text": [
      "Train on 3668 samples, validate on 408 samples\n",
      "Epoch 1/10\n",
      "3668/3668 [==============================] - 765s 209ms/step - loss: 0.6546 - acc: 0.6647 - val_loss: 0.6125 - val_acc: 0.6961\n",
      "Epoch 2/10\n",
      "3668/3668 [==============================] - 748s 204ms/step - loss: 0.6192 - acc: 0.6794 - val_loss: 0.6062 - val_acc: 0.7010\n",
      "Epoch 3/10\n",
      "3668/3668 [==============================] - 770s 210ms/step - loss: 0.6153 - acc: 0.6865 - val_loss: 0.6042 - val_acc: 0.7108\n",
      "Epoch 4/10\n",
      "3668/3668 [==============================] - 746s 203ms/step - loss: 0.6141 - acc: 0.6960 - val_loss: 0.6047 - val_acc: 0.7108\n",
      "Epoch 5/10\n",
      "3668/3668 [==============================] - 735s 200ms/step - loss: 0.6127 - acc: 0.6952 - val_loss: 0.6041 - val_acc: 0.7083\n",
      "Epoch 6/10\n",
      "3668/3668 [==============================] - 712s 194ms/step - loss: 0.6112 - acc: 0.6957 - val_loss: 0.6039 - val_acc: 0.7059\n",
      "Epoch 7/10\n",
      "3668/3668 [==============================] - 715s 195ms/step - loss: 0.6101 - acc: 0.6971 - val_loss: 0.6040 - val_acc: 0.7083\n",
      "Epoch 8/10\n",
      "3668/3668 [==============================] - 536s 146ms/step - loss: 0.6094 - acc: 0.6966 - val_loss: 0.6038 - val_acc: 0.7059\n",
      "Epoch 9/10\n",
      "3668/3668 [==============================] - 581s 158ms/step - loss: 0.6082 - acc: 0.6990 - val_loss: 0.6035 - val_acc: 0.7083\n",
      "Epoch 10/10\n",
      "3668/3668 [==============================] - 633s 172ms/step - loss: 0.6077 - acc: 0.6966 - val_loss: 0.6044 - val_acc: 0.7059\n",
      "dict_keys(['val_loss', 'val_acc', 'loss', 'acc'])\n"
     ]
    },
    {
     "data": {
      "image/png": "[encoded data removed]",
      "text/plain": [
       "<Figure size 432x288 with 1 Axes>"
      ]
     },
     "metadata": {},
     "output_type": "display_data"
    },
    {
     "data": {
      "image/png": "[encoded data removed]",
      "text/plain": [
       "<Figure size 432x288 with 1 Axes>"
      ]
     },
     "metadata": {},
     "output_type": "display_data"
    }
   ],
   "source": [
    "import matplotlib.pyplot as plt\n",
    "plt.style.use('ggplot')\n",
    "\n",
    "#FFmodel.compile(loss='binary_crossentropy', optimizer='adam', metrics=['accuracy'])\n",
    "\n",
    "\n",
    "history = LSTMmodel.fit(data, y_train, validation_split=0.1, epochs = 10)\n",
    "\n",
    "print(history.history.keys())\n",
    "\n",
    "plt.plot(history.history['acc'])\n",
    "plt.plot(history.history['val_acc'])\n",
    "plt.title('LSTM model accuracy')\n",
    "plt.ylabel('accuracy')\n",
    "plt.xlabel('epoch')\n",
    "plt.legend(['train', 'validation'], loc='upper left')\n",
    "plt.show()\n",
    "\n",
    "# summarize history for loss\n",
    "plt.plot(history.history['loss'])\n",
    "plt.plot(history.history['val_loss'])\n",
    "plt.title('LSTM model loss')\n",
    "plt.ylabel('loss')\n",
    "plt.xlabel('epoch')\n",
    "plt.legend(['train', 'validation'], loc='upper left')\n",
    "plt.show()"
   ]
  },
  {
   "cell_type": "code",
   "execution_count": null,
   "metadata": {},
   "outputs": [],
   "source": []
  },
  {
   "cell_type": "code",
   "execution_count": 126,
   "metadata": {},
   "outputs": [
    {
     "name": "stdout",
     "output_type": "stream",
     "text": [
      "1725/1725 [==============================] - 63s 37ms/step\n",
      "1725/1725 [==============================] - 65s 38ms/step\n",
      "/n\n",
      "Test accuracy of word embeddings model: 68.12%\n"
     ]
    }
   ],
   "source": [
    "#target = to_categorical(np.asarray(y_test))\n",
    "LSTMpred = LSTMmodel.predict(test_data, batch_size=100, verbose=1)\n",
    "results = LSTMmodel.evaluate(test_data, y_test)\n",
    "\n",
    "print('/n')\n",
    "print('Test accuracy of word embeddings model: {0:.2f}%'.format(results[1]*100))"
   ]
  },
  {
   "cell_type": "code",
   "execution_count": 127,
   "metadata": {},
   "outputs": [
    {
     "name": "stdout",
     "output_type": "stream",
     "text": [
      "Test accuracy of LSTM model: 68.12%\n",
      "Precision Score for LSTM Network : 71.44%\n",
      "Recall Score for LSTM Network :54.61%\n",
      "F1 Score for Feed LSTM Network :79.94%\n"
     ]
    }
   ],
   "source": [
    "average_precision = average_precision_score(y_test, LSTMpred)\n",
    "recall =recall_score(y_test, LSTMpred.round(), average='macro')\n",
    "f1 = f1_score(LSTMpred.round(), y_test)\n",
    "\n",
    "print('Test accuracy of LSTM model: {0:.2f}%'.format(results[1]*100))\n",
    "print('Precision Score for LSTM Network : {0:.2f}%' .format(average_precision*100))\n",
    "print('Recall Score for LSTM Network :{0:.2f}%' .format(recall*100))\n",
    "print('F1 Score for Feed LSTM Network :{0:.2f}%' .format(f1*100))"
   ]
  },
  {
   "cell_type": "code",
   "execution_count": null,
   "metadata": {},
   "outputs": [],
   "source": []
  },
  {
   "cell_type": "markdown",
   "metadata": {},
   "source": [
    "### Part-3 --- BiLSTM network with 300 units followed by a hidden layer containing 150 ReLU units. "
   ]
  },
  {
   "cell_type": "code",
   "execution_count": null,
   "metadata": {},
   "outputs": [],
   "source": []
  },
  {
   "cell_type": "code",
   "execution_count": 151,
   "metadata": {},
   "outputs": [
    {
     "name": "stdout",
     "output_type": "stream",
     "text": [
      "_________________________________________________________________\n",
      "Layer (type)                 Output Shape              Param #   \n",
      "=================================================================\n",
      "embedding_19 (Embedding)     (None, 40, 300)           3000300   \n",
      "_________________________________________________________________\n",
      "bidirectional_2 (Bidirection (None, 600)               1442400   \n",
      "_________________________________________________________________\n",
      "dense_44 (Dense)             (None, 150)               90150     \n",
      "_________________________________________________________________\n",
      "dense_45 (Dense)             (None, 1)                 151       \n",
      "=================================================================\n",
      "Total params: 4,533,001\n",
      "Trainable params: 1,532,701\n",
      "Non-trainable params: 3,000,300\n",
      "_________________________________________________________________\n"
     ]
    }
   ],
   "source": [
    "from keras.layers import Bidirectional\n",
    "BiLSTMmodel = models.Sequential()\n",
    "BiLSTMmodel.add(Embedding(num_words,  GLOVE_DIM, input_length=2*MAX_LEN, weights= [embedding_matrix], trainable=False))\n",
    "\n",
    "BiLSTMmodel.add(Bidirectional(LSTM(300))) #, return_sequences=True\n",
    "\n",
    "BiLSTMmodel.add((Dense(150, activation='relu')))\n",
    "BiLSTMmodel.add((Dense(1, activation='sigmoid')))\n",
    "BiLSTMmodel.compile(loss='binary_crossentropy', optimizer='adam', metrics=['acc'])\n",
    "BiLSTMmodel.summary()\n"
   ]
  },
  {
   "cell_type": "code",
   "execution_count": 68,
   "metadata": {},
   "outputs": [],
   "source": [
    "\n",
    "# print(labels.shape)\n",
    "# BiLSTMmodel.fit(data, y_train, validation_split=0.1, epochs = 1)"
   ]
  },
  {
   "cell_type": "code",
   "execution_count": 129,
   "metadata": {},
   "outputs": [
    {
     "name": "stdout",
     "output_type": "stream",
     "text": [
      "Train on 3586 samples, validate on 490 samples\n",
      "Epoch 1/10\n",
      "3586/3586 [==============================] - 1466s 409ms/step - loss: 0.6709 - acc: 0.6665 - val_loss: 0.6323 - val_acc: 0.7020\n",
      "Epoch 2/10\n",
      "3586/3586 [==============================] - 1501s 419ms/step - loss: 0.6208 - acc: 0.6924 - val_loss: 0.6123 - val_acc: 0.6898\n",
      "Epoch 3/10\n",
      "3586/3586 [==============================] - 1485s 414ms/step - loss: 0.6137 - acc: 0.6913 - val_loss: 0.6113 - val_acc: 0.6918\n",
      "Epoch 4/10\n",
      "3586/3586 [==============================] - 1483s 414ms/step - loss: 0.6128 - acc: 0.6874 - val_loss: 0.6075 - val_acc: 0.6980\n",
      "Epoch 5/10\n",
      "3586/3586 [==============================] - 1397s 390ms/step - loss: 0.6109 - acc: 0.6896 - val_loss: 0.6072 - val_acc: 0.6939\n",
      "Epoch 6/10\n",
      "3586/3586 [==============================] - 1436s 400ms/step - loss: 0.6088 - acc: 0.6935 - val_loss: 0.6075 - val_acc: 0.6918\n",
      "Epoch 7/10\n",
      "3586/3586 [==============================] - 1406s 392ms/step - loss: 0.6073 - acc: 0.6935 - val_loss: 0.6068 - val_acc: 0.6959\n",
      "Epoch 8/10\n",
      "3586/3586 [==============================] - 1212s 338ms/step - loss: 0.6060 - acc: 0.6946 - val_loss: 0.6065 - val_acc: 0.6980\n",
      "Epoch 9/10\n",
      "3586/3586 [==============================] - 1418s 395ms/step - loss: 0.6054 - acc: 0.6938 - val_loss: 0.6066 - val_acc: 0.6980\n",
      "Epoch 10/10\n",
      "3586/3586 [==============================] - 1426s 398ms/step - loss: 0.6038 - acc: 0.6949 - val_loss: 0.6068 - val_acc: 0.7000\n",
      "dict_keys(['val_loss', 'val_acc', 'loss', 'acc'])\n"
     ]
    },
    {
     "data": {
      "image/png": "[encoded data removed]",
      "text/plain": [
       "<Figure size 432x288 with 1 Axes>"
      ]
     },
     "metadata": {},
     "output_type": "display_data"
    },
    {
     "data": {
      "image/png": "[encoded data removed]",
      "text/plain": [
       "<Figure size 432x288 with 1 Axes>"
      ]
     },
     "metadata": {},
     "output_type": "display_data"
    }
   ],
   "source": [
    "import matplotlib.pyplot as plt\n",
    "plt.style.use('ggplot')\n",
    "batch_size = 10\n",
    "\n",
    "#FFmodel.compile(loss='binary_crossentropy', optimizer='adam', metrics=['accuracy'])\n",
    "\n",
    "\n",
    "history = BiLSTMmodel.fit(data, y_train, validation_split=0.12, epochs = 10)\n",
    "\n",
    "print(history.history.keys())\n",
    "\n",
    "plt.plot(history.history['acc'])\n",
    "plt.plot(history.history['val_acc'])\n",
    "plt.title('BiLSTM model accuracy')\n",
    "plt.ylabel('accuracy')\n",
    "plt.xlabel('epoch')\n",
    "plt.legend(['train', 'validation'], loc='upper left')\n",
    "plt.show()\n",
    "\n",
    "# summarize history for loss\n",
    "plt.plot(history.history['loss'])\n",
    "plt.plot(history.history['val_loss'])\n",
    "plt.title('BiLSTM model loss')\n",
    "plt.ylabel('loss')\n",
    "plt.xlabel('epoch')\n",
    "plt.legend(['train', 'validation'], loc='upper left')\n",
    "plt.show()"
   ]
  },
  {
   "cell_type": "code",
   "execution_count": null,
   "metadata": {},
   "outputs": [],
   "source": []
  },
  {
   "cell_type": "code",
   "execution_count": 137,
   "metadata": {},
   "outputs": [
    {
     "name": "stdout",
     "output_type": "stream",
     "text": [
      "1725/1725 [==============================] - 115s 67ms/step\n",
      "1725/1725 [==============================] - 136s 79ms/step\n",
      "/n\n",
      "Test accuracy of word embeddings model: 67.65%\n"
     ]
    }
   ],
   "source": [
    "#target = to_categorical(np.asarray(y_test))\n",
    "pred = BiLSTMmodel.predict(test_data, batch_size=8192, verbose=1)\n",
    "results = BiLSTMmodel.evaluate(test_data, y_test)\n",
    "\n",
    "print('/n')\n",
    "print('Test accuracy of word embeddings model: {0:.2f}%'.format(results[1]*100))"
   ]
  },
  {
   "cell_type": "code",
   "execution_count": 138,
   "metadata": {},
   "outputs": [
    {
     "name": "stdout",
     "output_type": "stream",
     "text": [
      "Test accuracy of BiLSTM model model: 67.65%\n",
      "Precision Score for BiLSTM model  : 73.15%\n",
      "Recall Score for BiLSTM model  :54.30%\n",
      "F1 Score for BiLSTM model  :79.58%\n"
     ]
    }
   ],
   "source": [
    "average_precision = average_precision_score(y_test, pred)\n",
    "recall =recall_score(y_test, pred.round(), average='macro')\n",
    "f1 = f1_score(pred.round(), y_test)\n",
    "\n",
    "print('Test accuracy of BiLSTM model model: {0:.2f}%'.format(results[1]*100))\n",
    "print('Precision Score for BiLSTM model  : {0:.2f}%' .format(average_precision*100))\n",
    "print('Recall Score for BiLSTM model  :{0:.2f}%' .format(recall*100))\n",
    "print('F1 Score for BiLSTM model  :{0:.2f}%' .format(f1*100))"
   ]
  },
  {
   "cell_type": "code",
   "execution_count": null,
   "metadata": {},
   "outputs": [],
   "source": []
  },
  {
   "cell_type": "markdown",
   "metadata": {},
   "source": [
    "#### LSTM with Dropout and Maxpooling"
   ]
  },
  {
   "cell_type": "code",
   "execution_count": 130,
   "metadata": {},
   "outputs": [
    {
     "name": "stdout",
     "output_type": "stream",
     "text": [
      "_________________________________________________________________\n",
      "Layer (type)                 Output Shape              Param #   \n",
      "=================================================================\n",
      "embedding_16 (Embedding)     (None, 40, 300)           3000300   \n",
      "_________________________________________________________________\n",
      "dropout_1 (Dropout)          (None, 40, 300)           0         \n",
      "_________________________________________________________________\n",
      "max_pooling1d_1 (MaxPooling1 (None, 10, 300)           0         \n",
      "_________________________________________________________________\n",
      "lstm_4 (LSTM)                (None, 3)                 3648      \n",
      "_________________________________________________________________\n",
      "dense_37 (Dense)             (None, 2)                 8         \n",
      "_________________________________________________________________\n",
      "dense_38 (Dense)             (None, 1)                 3         \n",
      "=================================================================\n",
      "Total params: 3,003,959\n",
      "Trainable params: 3,659\n",
      "Non-trainable params: 3,000,300\n",
      "_________________________________________________________________\n"
     ]
    }
   ],
   "source": [
    "from keras.layers import Dense, Flatten, LSTM, MaxPooling1D, Dropout, Activation,Embedding\n",
    "\n",
    "LSTMmodel = Sequential()\n",
    "LSTMmodel.add(Embedding(num_words,  GLOVE_DIM, input_length=2*MAX_LEN, weights= [embedding_matrix], trainable=False))\n",
    "\n",
    "LSTMmodel.add(Dropout(0.2))\n",
    "LSTMmodel.add(MaxPooling1D(pool_size=4))\n",
    "LSTMmodel.add(LSTM(3, input_shape=(2*MAX_LEN, 300)))\n",
    "LSTMmodel.add(Dense(2, activation='relu'))\n",
    "LSTMmodel.add(Dense(1, activation='sigmoid'))\n",
    "LSTMmodel.summary()\n",
    "LSTMmodel.compile(loss='binary_crossentropy', optimizer='adam', metrics=['accuracy'])"
   ]
  },
  {
   "cell_type": "code",
   "execution_count": 134,
   "metadata": {},
   "outputs": [
    {
     "name": "stdout",
     "output_type": "stream",
     "text": [
      "Train on 3464 samples, validate on 612 samples\n",
      "Epoch 1/1\n"
     ]
    },
    {
     "name": "stderr",
     "output_type": "stream",
     "text": [
      "c:\\python\\lib\\site-packages\\theano\\tensor\\signal\\pool.py:574: FutureWarning: Using a non-tuple sequence for multidimensional indexing is deprecated; use `arr[tuple(seq)]` instead of `arr[seq]`. In the future this will be interpreted as an array index, `arr[np.array(seq)]`, which will result either in an error or a different result.\n",
      "  yk[[region_slices[i][r[i]] for i in xrange(nd)]])\n"
     ]
    },
    {
     "name": "stdout",
     "output_type": "stream",
     "text": [
      "3464/3464 [==============================] - 10168s 3s/step - loss: 0.6774 - acc: 0.6706 - val_loss: 0.6529 - val_acc: 0.6895\n",
      "dict_keys(['val_loss', 'val_acc', 'loss', 'acc'])\n"
     ]
    },
    {
     "data": {
      "image/png": "[encoded data removed]",
      "text/plain": [
       "<Figure size 432x288 with 1 Axes>"
      ]
     },
     "metadata": {},
     "output_type": "display_data"
    },
    {
     "data": {
      "image/png": "[encoded data removed]",
      "text/plain": [
       "<Figure size 432x288 with 1 Axes>"
      ]
     },
     "metadata": {},
     "output_type": "display_data"
    }
   ],
   "source": [
    "import matplotlib.pyplot as plt\n",
    "plt.style.use('ggplot')\n",
    "\n",
    "#FFmodel.compile(loss='binary_crossentropy', optimizer='adam', metrics=['accuracy'])\n",
    "\n",
    "\n",
    "history = LSTMmodel.fit(data, y_train, validation_split=0.15, epochs = 1)\n",
    "\n",
    "print(history.history.keys())\n",
    "\n",
    "plt.plot(history.history['acc'])\n",
    "plt.plot(history.history['val_acc'])\n",
    "plt.title('LSTM model accuracy')\n",
    "plt.ylabel('accuracy')\n",
    "plt.xlabel('epoch')\n",
    "plt.legend(['train', 'validation'], loc='upper left')\n",
    "plt.show()\n",
    "\n",
    "# summarize history for loss\n",
    "plt.plot(history.history['loss'])\n",
    "plt.plot(history.history['val_loss'])\n",
    "plt.title('LSTM model loss')\n",
    "plt.ylabel('loss')\n",
    "plt.xlabel('epoch')\n",
    "plt.legend(['train', 'validation'], loc='upper left')\n",
    "plt.show()"
   ]
  },
  {
   "cell_type": "code",
   "execution_count": 144,
   "metadata": {},
   "outputs": [
    {
     "name": "stdout",
     "output_type": "stream",
     "text": [
      "/n\n"
     ]
    }
   ],
   "source": [
    "\n",
    "pred = LSTMmodel.predict(test_data, batch_size=100, verbose=1)\n",
    "results = LSTMmodel.evaluate(test_data, y_test)\n",
    "\n",
    "print('/n')\n",
    "#print('Test accuracy of word embeddings model: {0:.2f}%'.format(results[1]*100))"
   ]
  },
  {
   "cell_type": "code",
   "execution_count": 148,
   "metadata": {},
   "outputs": [
    {
     "name": "stdout",
     "output_type": "stream",
     "text": [
      "Test accuracy of BiLSTM model model: 73.19%\n",
      "Precision Score for BiLSTM model  : 78.25%\n",
      "Recall Score for BiLSTM model  :55.01%\n",
      "F1 Score for BiLSTM model  :80.11%\n"
     ]
    }
   ],
   "source": [
    "average_precision = average_precision_score(y_test, pred)\n",
    "recall =recall_score(y_test, pred.round(), average='macro')\n",
    "f1 = f1_score(pred.round(), y_test)\n",
    "\n",
    "print('Test accuracy of BiLSTM model model: {0:.2f}%'.format(results[1]*100))\n",
    "print('Precision Score for BiLSTM model  : {0:.2f}%' .format(average_precision*100))\n",
    "print('Recall Score for BiLSTM model  :{0:.2f}%' .format(recall*100))\n",
    "print('F1 Score for BiLSTM model  :{0:.2f}%' .format(f1*100))\n",
    "\n",
    "\n"
   ]
  },
  {
   "cell_type": "code",
   "execution_count": null,
   "metadata": {},
   "outputs": [],
   "source": []
  },
  {
   "cell_type": "code",
   "execution_count": 262,
   "metadata": {},
   "outputs": [],
   "source": []
  },
  {
   "cell_type": "code",
   "execution_count": 263,
   "metadata": {},
   "outputs": [],
   "source": []
  },
  {
   "cell_type": "code",
   "execution_count": null,
   "metadata": {},
   "outputs": [],
   "source": []
  }
 ],
 "metadata": {
  "kernelspec": {
   "display_name": "Python 3",
   "language": "python",
   "name": "python3"
  },
  "language_info": {
   "codemirror_mode": {
    "name": "ipython",
    "version": 3
   },
   "file_extension": ".py",
   "mimetype": "text/x-python",
   "name": "python",
   "nbconvert_exporter": "python",
   "pygments_lexer": "ipython3",
   "version": "3.8.5"
  }
 },
 "nbformat": 4,
 "nbformat_minor": 4
}
